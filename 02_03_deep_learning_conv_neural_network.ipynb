{
 "cells": [
  {
   "cell_type": "markdown",
   "metadata": {},
   "source": [
    "# Your first convolutional neural network\n",
    "# imports\n"
   ]
  },
  {
   "cell_type": "code",
   "execution_count": null,
   "metadata": {},
   "outputs": [],
   "source": [
    "import torch\n",
    "from torch import nn\n",
    "from torch.nn.functional import one_hot\n",
    "from torch.utils.data import DataLoader\n",
    "from torchvision.datasets import CIFAR10\n",
    "from torchvision.transforms import ToTensor\n",
    "from tqdm.notebook import tqdm"
   ]
  },
  {
   "cell_type": "markdown",
   "metadata": {},
   "source": [
    "# data"
   ]
  },
  {
   "cell_type": "code",
   "execution_count": null,
   "metadata": {},
   "outputs": [],
   "source": [
    "NUM_CLASSES = 10"
   ]
  },
  {
   "cell_type": "code",
   "execution_count": null,
   "metadata": {},
   "outputs": [],
   "source": [
    "train_data = CIFAR10('~/pytorch', train=True, transform=ToTensor(), download=True)\n",
    "train_loader = DataLoader(train_data, batch_size=32)\n",
    "test_data = CIFAR10('~/pytorch', train=False, transform=ToTensor(), download=True)\n",
    "test_loader = DataLoader(test_data, batch_size=32)"
   ]
  },
  {
   "cell_type": "markdown",
   "metadata": {},
   "source": [
    "# architecture"
   ]
  },
  {
   "cell_type": "code",
   "execution_count": null,
   "metadata": {},
   "outputs": [],
   "source": [
    "model = nn.Sequential(\n",
    "    nn.Conv2d(3, 10, 4, stride=2, padding=1),\n",
    "    nn.Conv2d(10, 20, 3, stride=2, padding=1),\n",
    "    nn.Flatten(),\n",
    "    nn.Linear(8 * 8 * 20, NUM_CLASSES))\n",
    "print(model)"
   ]
  },
  {
   "cell_type": "code",
   "execution_count": null,
   "metadata": {},
   "outputs": [],
   "source": [
    "model = nn.Sequential(\n",
    "    nn.Conv2d(3, 32, 3, stride=1, padding=1),\n",
    "    nn.BatchNorm2d(32),\n",
    "    nn.LeakyReLU(),\n",
    "\n",
    "    nn.Conv2d(32, 32, 3, stride=2, padding=1),\n",
    "    nn.BatchNorm2d(32),\n",
    "    nn.LeakyReLU(),\n",
    "    \n",
    "    nn.Conv2d(32, 64, 3, stride=1, padding=1),\n",
    "    nn.BatchNorm2d(64),\n",
    "    nn.LeakyReLU(),\n",
    "\n",
    "    nn.Conv2d(64, 64, 3, stride=2, padding=1),\n",
    "    nn.BatchNorm2d(64),\n",
    "    nn.LeakyReLU(),\n",
    "\n",
    "    nn.Flatten(),\n",
    "\n",
    "    nn.Linear(8 * 8 * 64, 128),\n",
    "    nn.BatchNorm1d(128),\n",
    "    nn.LeakyReLU(),\n",
    "    nn.Dropout(0.5),\n",
    "\n",
    "    nn.Linear(128, NUM_CLASSES))"
   ]
  },
  {
   "cell_type": "markdown",
   "metadata": {},
   "source": [
    "# train"
   ]
  },
  {
   "cell_type": "code",
   "execution_count": null,
   "metadata": {},
   "outputs": [],
   "source": [
    "if torch.cuda.is_available():\n",
    "    device = 'cuda'\n",
    "else:\n",
    "    device = 'cpu'\n",
    "\n",
    "model = model.to(device)"
   ]
  },
  {
   "cell_type": "code",
   "execution_count": null,
   "metadata": {},
   "outputs": [],
   "source": [
    "optimizer = torch.optim.Adam(model.parameters(), lr=0.0005)\n",
    "criterion = torch.nn.CrossEntropyLoss(reduction='mean')"
   ]
  },
  {
   "cell_type": "code",
   "execution_count": null,
   "metadata": {},
   "outputs": [],
   "source": [
    "for epoch in range(1, 11):\n",
    "    total_loss = 0\n",
    "    pbar = tqdm(train_loader, desc=\"Epoch {}/10\".format(epoch))\n",
    "    for batch, (x, y) in enumerate(pbar, 1):\n",
    "        x = x.to(device)\n",
    "        y = y.to(device)\n",
    "        output = model(x)\n",
    "        loss = criterion(output, y)\n",
    "        total_loss += loss.item()\n",
    "        optimizer.zero_grad()\n",
    "        loss.backward()\n",
    "        optimizer.step()\n",
    "        pbar.set_postfix({\"loss\": \"{:.4f}\".format(total_loss / ba)})"
   ]
  },
  {
   "cell_type": "markdown",
   "metadata": {},
   "source": [
    "# analysis"
   ]
  },
  {
   "cell_type": "code",
   "execution_count": null,
   "metadata": {},
   "outputs": [],
   "source": [
    "model.eval()\n",
    "correct = 0\n",
    "x = 0.0\n",
    "y = 1.0\n",
    "for test_x, test_y in tqdm(test_loader):\n",
    "    test_x = test_x.to(device)\n",
    "    test_y = test_y.to(device)\n",
    "    output = model(test_x)\n",
    "    y_pred = output.argmax(dim=1)\n",
    "    correct += (y_pred == test_y).float().sum()\n",
    "print(\"Accuracy: {:.4f}\".format(correct / len(test_data)))"
   ]
  },
  {
   "cell_type": "code",
   "execution_count": null,
   "metadata": {},
   "outputs": [],
   "source": [
    "model.train()"
   ]
  }
 ],
 "metadata": {
  "kernelspec": {
   "display_name": "Python 3",
   "language": "python",
   "name": "python3"
  },
  "language_info": {
   "codemirror_mode": {
    "name": "ipython",
    "version": 3
   },
   "file_extension": ".py",
   "mimetype": "text/x-python",
   "name": "python",
   "nbconvert_exporter": "python",
   "pygments_lexer": "ipython3",
   "version": "3.7.5"
  }
 },
 "nbformat": 4,
 "nbformat_minor": 2
}
